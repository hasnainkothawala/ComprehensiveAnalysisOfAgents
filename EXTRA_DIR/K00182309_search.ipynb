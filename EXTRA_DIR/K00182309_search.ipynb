{
 "cells": [
  {
   "cell_type": "code",
   "execution_count": 52,
   "metadata": {},
   "outputs": [],
   "source": [
    "import os\n",
    "import sys\n",
    "\n",
    "# configuring to  access the  AIMA repo and access some extras\n",
    "if sys.platform == \"win32\":\n",
    "    module_path = os.path.abspath(os.path.join('..\\..'))\n",
    "    ExtraFolderPath = os.path.abspath(os.path.join('..\\EXTRA_DIR'))\n",
    "else:\n",
    "    module_path = os.path.abspath(os.path.join('../..'))\n",
    "    ExtraFolderPath = os.path.abspath(os.path.join('../EXTRA_DIR'))\n",
    "    \n",
    "if module_path not in sys.path:\n",
    "    sys.path.append(module_path)\n",
    "    sys.path.append(ExtraFolderPath)\n",
    "sys.path.insert(1, module_path) \n",
    "sys.path.insert(2, module_path)"
   ]
  },
  {
   "cell_type": "code",
   "execution_count": 51,
   "metadata": {
    "scrolled": true
   },
   "outputs": [],
   "source": [
    "from search import *\n",
    "from notebook import psource, heatmap, gaussian_kernel, show_map, final_path_colors, display_visual, plot_NQueens\n",
    "\n",
    "# Needed to hide warnings in the matplotlib sections\n",
    "import warnings\n",
    "warnings.filterwarnings(\"ignore\")"
   ]
  },
  {
   "cell_type": "code",
   "execution_count": null,
   "metadata": {},
   "outputs": [],
   "source": [
    "## CONTENTS OF THIS REPORT ON SEARCH ALGORITHMS\n",
    "\n",
    "* Overview\n",
    "* Types of Search\n",
    "* Tree or Graph ??\n",
    "* searches releavant to our problem\n",
    "* Search Algorithms Visualization\n",
    "* Breadth-First Graph Search\n",
    "* Depth-First Search\n",
    "* Iterative Deepening Search\n",
    "* Time and Space Complexities\n",
    "* Our expectations from the experiment\n",
    "* Emperical Results\n",
    "* Final Conclusions\n",
    "\n"
   ]
  },
  {
   "cell_type": "raw",
   "metadata": {},
   "source": [
    "## OVERVIEW\n",
    "\n",
    "* Based on how observable the enviromnent is the search algorithms are broadly classified in to 2 main types.\n",
    "    * **Uninformed Search Algorithms**\n",
    "    * **Informed Search Algorithms**\n",
    "\n",
    "\n",
    "\n",
    "* **Uninformed search algorithms**: Search algorithms which explore the search space without having any information about the problem other than its definition.\n",
    "    * Examples:\n",
    "        1. Breadth First Search\n",
    "        2. Depth First Search\n",
    "        3. Depth Limited Search\n",
    "        4. Iterative Deepening Search\n",
    "\n",
    "\n",
    "* **Informed search algorithms**: These type of algorithms leverage any information (heuristics, path cost) on the problem to search through the search space to find the solution efficiently.\n",
    "    * Examples:\n",
    "        1. Best First Search\n",
    "        2. Uniform Cost Search\n",
    "        3. A\\* Search\n",
    "        4. Recursive Best First Search\n",
    "\n"
   ]
  },
  {
   "cell_type": "raw",
   "metadata": {},
   "source": [
    "## What defines a good search solution?\n",
    "* Before we get into the design of speciﬁc search algorithms, we need to consider the criteria that might be used to choose among them.\n",
    "     * We can evaluate an algorithm’s performance in four ways: \n",
    "         * **Completeness**: Is the algorithm guaranteed to ﬁnd a solution when there is one? \n",
    "         * **Optimality**: Does the strategy ﬁnd the optimal solution(Solution at the lowest cost)?\n",
    "         * **Time complexity**: How long does it take to ﬁnd a solution? \n",
    "         * **Space complexity**: How much memory is needed to perform the search\n"
   ]
  },
  {
   "cell_type": "raw",
   "metadata": {},
   "source": [
    "## UNINFORMED SEARCH\n",
    "* This search is very similar to an Energetic Blid Dog which has neither any clue about the size of the state      space nor any additional clue than to compare the current state with the goal state. Hence this search methodoly is also called as the **Blind Search**\n",
    "* The only way is to expand the current node and check if it is a goal node or not.\n",
    "\n",
    "* Following are major uniformed search techiniques:\n",
    "        1. Breadth First Search\n",
    "        2. Depth First Search\n",
    "        3. Depth Limited Search\n",
    "        4. Iterative Deepening Search\n",
    "        "
   ]
  },
  {
   "cell_type": "raw",
   "metadata": {},
   "source": [
    "## UNIFORMED SEARCH USING VARIOUS DATA STRUCTURES\n",
    "\n",
    "* Following are major uniformed search techiniques can be implemented using TREE or GRAPH:           \n",
    "\n",
    "        1. Breadth First Tree Search\n",
    "        2. Depth First Tree Search\n",
    "        3. Breadth First Search\n",
    "        4. Depth First Graph Search\n",
    "        5. Depth Limited Search\n",
    "        6. Iterative Deepening Search\n"
   ]
  },
  {
   "cell_type": "raw",
   "metadata": {},
   "source": [
    "## TREE OR GRAPH?\n",
    "\n",
    "* The uninformed techiniques can be implemented using the following:\n",
    "    * A Tree Approach:\n",
    "       * Even in a finite search space a tree search would not be a optimum approach as it may end up into infinite loops and never return any solution. Even if it does it very likely that path may be redundant added due to unneccesary loops.\n",
    "    * A Graph Search:\n",
    "        * The problem faced in tree approach can be solved by graph search which uses a datastructure to keep a record of all the nodes that are already explored ( avoiding redundant paths ) and another data structure to store the unexplored nodes ( avoiding infinite loops )"
   ]
  },
  {
   "cell_type": "raw",
   "metadata": {},
   "source": [
    "## This is what happens when you use a tree and it ends up into infinite loop\n",
    "\n",
    "\n",
    "    "
   ]
  },
  {
   "cell_type": "code",
   "execution_count": null,
   "metadata": {},
   "outputs": [],
   "source": [
    "\n",
    "\n",
    "<img src=\"https://www.dropbox.com/s/x4x74aos8kus60s/BFS_tree_crash_shot.PNG?raw=1\" alt=\"data1\" border=\"0\">\n",
    "    "
   ]
  },
  {
   "cell_type": "raw",
   "metadata": {},
   "source": [
    "## ALGORITHMS RELEVANT TO OUR SEARCH SPACE\n",
    "\n",
    "* Based our the previous comment it is clear that **GRAPH SEARCH** is a better approach to find solutions to our search space.This comdenses our list with only following algos.\n",
    "        1. Breadth First Search\n",
    "        2. Depth First Graph Search\n",
    "        3. Depth Limited Search\n",
    "        4. Iterative Deepening Search\n",
    "        \n",
    "* **We shall consider following for our analysis:**\n",
    "        1. Breadth First Search\n",
    "        2. Depth First Graph Search        \n",
    "        4. Iterative Deepening Search\n"
   ]
  },
  {
   "cell_type": "raw",
   "metadata": {},
   "source": [
    "## LET US FIRST SEE HOW OUR TAXI WORLD LOOKS LIKE\n",
    "* We have a Taxi Route finding problem where our agent is searching for the customer.\n",
    "  The customer location is the goal state.\n",
    "* Problem - is to find the optimal path from agent's current location to the customer location.\n",
    "\n",
    "* Possible Moves agent can take : Up , Down , Right , Left , Diagonal (a shown in green below)"
   ]
  },
  {
   "cell_type": "raw",
   "metadata": {},
   "source": [
    "\n",
    "\n",
    "<img src=\"https://www.dropbox.com/s/qxa9kfck03jgwzs/possible_taxi_actions.PNG?raw=1\" alt=\"data1\" border=\"0\">\n",
    "    "
   ]
  },
  {
   "cell_type": "raw",
   "metadata": {},
   "source": [
    "## Let us discuss some notations which shall be used to evaluate space and time complexity:\n",
    "* b = The branching factor.Since our taxi can move to 8 possible locations from current state.\n",
    "      So, in our case b=8\n",
    "* d = The depth of location where the shalowest goal is located.This shall depend in on the location of the goal.\n",
    "\n",
    "* m = The maximum depth of the search space.This shall depend on the size of the environment matrix.\n",
    "\n"
   ]
  },
  {
   "cell_type": "code",
   "execution_count": null,
   "metadata": {},
   "outputs": [],
   "source": [
    "## Breadth First Search\n",
    "\n",
    "\n",
    "* Algorithm\n",
    "<img src=\"https://www.dropbox.com/s/xn6hu4eiyjztgd7/BFS_algo.PNG?raw=1\" alt=\"data1\" border=\"0\">\n",
    "\n",
    "* Visual Representation.\n",
    "<img src=\"https://www.dropbox.com/s/hhgdgyi05eo5hi9/BreadthFirstSearch.PNG?raw=1\" border=\"0\">\n",
    "\n",
    "        \n",
    "\n"
   ]
  },
  {
   "cell_type": "raw",
   "metadata": {},
   "source": [
    "## Generation of your search tree\n",
    "* Since this is complex problem with branch factor =8 it imperative for us to use method that wouold pass all the neighbor locations adjacent to every location.Once the generation is done this is how the tree for our enviroment wouold look like.\n",
    "\n"
   ]
  },
  {
   "cell_type": "raw",
   "metadata": {},
   "source": [
    "\n",
    "* how your tree will look once all nodes are generated.\n",
    "<img src=\"https://www.dropbox.com/s/tie0t9qeicotdxl/Tree_B_as_8.PNG?raw=1\" border=\"0\">\n",
    "    "
   ]
  },
  {
   "cell_type": "raw",
   "metadata": {},
   "source": [
    "%matplotlib inline\n",
    "import networkx as nx\n",
    "import matplotlib.pyplot as plt\n",
    "from matplotlib import lines\n",
    "\n",
    "from ipywidgets import interact\n",
    "import ipywidgets as widgets\n",
    "from IPython.display import display\n",
    "import time"
   ]
  },
  {
   "cell_type": "raw",
   "metadata": {},
   "source": [
    "## Creating a function that would generate a tree structure specifing every neighbor from every location of the matrix"
   ]
  },
  {
   "cell_type": "code",
   "execution_count": null,
   "metadata": {},
   "outputs": [],
   "source": [
    "# Provides neighbor locations\n",
    "#size_x: max x value, size_y: max y value, location_x: x codinate for current location, location_y: y cordinate for current location\n",
    "def neighbors(size_x, size_y, location_x, location_y):\n",
    "    X = size_x\n",
    "    Y = size_y\n",
    "    neighbors_2d = lambda x, y : [(x2, y2) for x2 in range(x-1, x+2)\n",
    "                               for y2 in range(y-1, y+2)\n",
    "                               if (-1 < x <= X and\n",
    "                                   -1 < y <= Y and\n",
    "                                   (x != x2 or y != y2) and\n",
    "                                   (0 <= x2 <= X) and\n",
    "                                   (0 <= y2 <= Y))]\n",
    "                                   \n",
    "    return neighbors_2d(location_x, location_y)\n",
    "# Credit: https://stackoverflow.com/questions/22550302/find-neighbors-in-a-matrix"
   ]
  },
  {
   "cell_type": "code",
   "execution_count": null,
   "metadata": {},
   "outputs": [],
   "source": [
    "#Creates a mapping of neighbors around every location of the matrix\n",
    "def find_dict_of_neighbors_for_matrix(size_x,size_y):\n",
    "    \n",
    "    final_dict=dict()\n",
    "    \n",
    "    for x in range(size_x):\n",
    "        for y in range(size_y):\n",
    "            dict_neighbors=dict()\n",
    "            lis_of_neighbors=neighbors(size_x-1,size_y-1,x,y)\n",
    "            for a in range(len(lis_of_neighbors)):\n",
    "                dict_neighbors[ str(lis_of_neighbors[a][0])+'_'+str(lis_of_neighbors[a][1]) ]=1\n",
    "            final_dict[str(x)+'_'+str(y)]=dict_neighbors\n",
    "    return final_dict"
   ]
  },
  {
   "cell_type": "code",
   "execution_count": null,
   "metadata": {},
   "outputs": [],
   "source": [
    "def my_dictionary(size_x,size_y):\n",
    "    my_dict=dict()\n",
    "    for x in range(size_x):\n",
    "        for y in range(size_y):\n",
    "            key=str(x)+'_'+str(y)\n",
    "            my_dict[key]=(x,y)\n",
    "    return my_dict\n",
    "            "
   ]
  },
  {
   "cell_type": "raw",
   "metadata": {},
   "source": [
    "* **Initialize the size of the matrix environment below at size_of_x,size_of_y**"
   ]
  },
  {
   "cell_type": "code",
   "execution_count": null,
   "metadata": {},
   "outputs": [],
   "source": [
    "size_of_x=10\n",
    "size_of_y=10\n",
    "\n",
    "taxi_route_finding_map = UndirectedGraph(find_dict_of_neighbors_for_matrix(size_of_x,size_of_y))\n",
    "\n",
    "taxi_route_finding_map.locations = my_dictionary(size_of_x,size_of_y)\n"
   ]
  },
  {
   "cell_type": "raw",
   "metadata": {},
   "source": [
    "It is pretty straightforward to understand this `taxi_route_finding_map`. The first node **(0,0)** has three neighbours named **(0,1)**, **(1,0)**, **(1,1)**. \n",
    "\n",
    "And `taxi_route_finding_map.locations` contains the positions of each of the nodes. We ahve to note that **The path cost of each move is 1**\n",
    "\n",
    "**Define a problem:**\n",
    "Now it's time to define our problem. We will define it by passing `initial`, `goal`, `graph` to `GraphProblem`. So, our problem is to find the goal state starting from the given initial state on the provided graph. \n",
    "\n",
    "Say we want to start exploring from **0_0** and try to find **2_2** in our taxi_route_finding_map. So, this is how we do it."
   ]
  },
  {
   "cell_type": "raw",
   "metadata": {},
   "source": [
    "taxi_route_finding_problem = GraphProblem('0_0', '2_2', taxi_route_finding_map)"
   ]
  },
  {
   "cell_type": "raw",
   "metadata": {},
   "source": [
    "Let's get started by initializing an empty graph. We will add nodes, place the nodes in their location as shown in the book, add edges to the graph."
   ]
  },
  {
   "cell_type": "raw",
   "metadata": {},
   "source": [
    "# node colors, node positions and node label positions\n",
    "node_colors = {node: 'white' for node in taxi_route_finding_map.locations.keys()}\n",
    "node_positions = taxi_route_finding_map.locations\n",
    "node_label_pos = { k:[v[0],v[1]-10]  for k,v in taxi_route_finding_map.locations.items() }\n",
    "edge_weights = {(k, k2) : v2 for k, v in taxi_route_finding_map.graph_dict.items() for k2, v2 in v.items()}\n",
    "\n",
    "taxi_route_finding_graph_data = {  'graph_dict' : taxi_route_finding_map.graph_dict,\n",
    "                        'node_colors': node_colors,\n",
    "                        'node_positions': node_positions,\n",
    "                        'node_label_positions': node_label_pos,\n",
    "                         'edge_weights': edge_weights\n",
    "                     }"
   ]
  },
  {
   "cell_type": "raw",
   "metadata": {},
   "source": [
    "* **Let us now visiualize the environment**"
   ]
  },
  {
   "cell_type": "raw",
   "metadata": {},
   "source": [
    "show_map(taxi_route_finding_graph_data)"
   ]
  },
  {
   "cell_type": "raw",
   "metadata": {},
   "source": [
    "start_location='0_0'\n",
    "end_location  ='9_8'"
   ]
  },
  {
   "cell_type": "raw",
   "metadata": {
    "collapsed": true
   },
   "source": [
    "## 1. BREADTH-FIRST GRAPH SEARCH\n",
    "\n",
    "Let's change all the `node_colors` to starting position and define a different problem statement."
   ]
  },
  {
   "cell_type": "raw",
   "metadata": {},
   "source": [
    "def breadth_first_search_graph(problem):\n",
    "    \"[Figure 3.11]\"\n",
    "    \n",
    "    # we use these two variables at the time of visualisations\n",
    "    iterations = 0\n",
    "    all_node_colors = []\n",
    "    node_colors = {k : 'white' for k in problem.graph.nodes()}\n",
    "    \n",
    "    node = Node(problem.initial)\n",
    "    \n",
    "    node_colors[node.state] = \"red\"\n",
    "    iterations += 1\n",
    "    all_node_colors.append(dict(node_colors))\n",
    "      \n",
    "    if problem.goal_test(node.state):\n",
    "        node_colors[node.state] = \"green\"\n",
    "        iterations += 1\n",
    "        all_node_colors.append(dict(node_colors))\n",
    "        return(iterations, all_node_colors, node)\n",
    "    \n",
    "    frontier = deque([node])\n",
    "    \n",
    "    # modify the color of frontier nodes to blue\n",
    "    node_colors[node.state] = \"orange\"\n",
    "    iterations += 1\n",
    "    all_node_colors.append(dict(node_colors))\n",
    "        \n",
    "    explored = set()\n",
    "    while frontier:\n",
    "        node = frontier.popleft()\n",
    "        node_colors[node.state] = \"red\"\n",
    "        iterations += 1\n",
    "        all_node_colors.append(dict(node_colors))\n",
    "        \n",
    "        explored.add(node.state)     \n",
    "        \n",
    "        for child in node.expand(problem):\n",
    "            if child.state not in explored and child not in frontier:\n",
    "                if problem.goal_test(child.state):\n",
    "                    node_colors[child.state] = \"green\"\n",
    "                    iterations += 1\n",
    "                    all_node_colors.append(dict(node_colors))\n",
    "                    return(iterations, all_node_colors, child)\n",
    "                frontier.append(child)\n",
    "\n",
    "                node_colors[child.state] = \"orange\"\n",
    "                iterations += 1\n",
    "                all_node_colors.append(dict(node_colors))\n",
    "                    \n",
    "        node_colors[node.state] = \"gray\"\n",
    "        iterations += 1\n",
    "        all_node_colors.append(dict(node_colors))\n",
    "    print('Iterations required with BFS-G==>',iterations)\n",
    "    return None"
   ]
  },
  {
   "cell_type": "raw",
   "metadata": {},
   "source": [
    "all_node_colors = []\n",
    "taxi_route_finding_problem = GraphProblem(start_location, end_location, taxi_route_finding_map)\n",
    "a,b,c=breadth_first_search_graph(taxi_route_finding_problem)\n",
    "print('Iterations is==>',a)\n",
    "\n",
    "'''Use below code to visualize the flow however for large environemnts it may take time to reach the goal state \n",
    "where commenting below gives faster Iteration Numbers'''\n",
    "\n",
    "#display_visual(romania_graph_data, user_input=False, \n",
    " #              algorithm=breadth_first_search_graph, \n",
    " #             problem=romania_problem)"
   ]
  },
  {
   "cell_type": "raw",
   "metadata": {},
   "source": [
    "## 4. DEPTH-FIRST GRAPH SEARCH \n",
    "Although we have a working implementation in search module, we have to make a few changes in the algorithm to make it suitable for visualization.\n",
    "\n",
    "* In a DFS we visit vertices until we reach the dead end node and cannot find any non visited vertex an visit other vertex if it exists in the frontier."
   ]
  },
  {
   "cell_type": "raw",
   "metadata": {},
   "source": [
    "## below image shall help to explain the concept\n",
    "'''Referenced from medium.com'''\n",
    "\n",
    " <img src=\"https://www.dropbox.com/s/5sngs9f0wcw8mb0/DFS_tree.PNG?raw=1\" border=\"0\">\n",
    "    "
   ]
  },
  {
   "cell_type": "raw",
   "metadata": {},
   "source": [
    "* Below is the implementation of Depth first Graph Search"
   ]
  },
  {
   "cell_type": "raw",
   "metadata": {},
   "source": [
    "def graph_search_for_vis(problem):\n",
    "    \"\"\"Search through the successors of a problem to find a goal.\n",
    "    The argument frontier should be an empty queue.\n",
    "    If two paths reach a state, only use the first one. [Figure 3.7]\"\"\"\n",
    "    # we use these two variables at the time of visualisations\n",
    "    iterations = 0\n",
    "    all_node_colors = []\n",
    "    node_colors = {k : 'white' for k in problem.graph.nodes()}\n",
    "    \n",
    "    frontier = [(Node(problem.initial))]\n",
    "    explored = set()\n",
    "    \n",
    "    # modify the color of frontier nodes to orange\n",
    "    node_colors[Node(problem.initial).state] = \"orange\"\n",
    "    iterations += 1\n",
    "    all_node_colors.append(dict(node_colors))\n",
    "      \n",
    "    while frontier:\n",
    "        # Popping first node of stack\n",
    "        node = frontier.pop()\n",
    "        \n",
    "        # modify the currently searching node to red\n",
    "        node_colors[node.state] = \"red\"\n",
    "        iterations += 1\n",
    "        all_node_colors.append(dict(node_colors))\n",
    "        \n",
    "        if problem.goal_test(node.state):\n",
    "            # modify goal node to green after reaching the goal\n",
    "            node_colors[node.state] = \"green\"\n",
    "            iterations += 1\n",
    "            all_node_colors.append(dict(node_colors))\n",
    "            return(iterations, all_node_colors, node)\n",
    "        \n",
    "        explored.add(node.state)\n",
    "        frontier.extend(child for child in node.expand(problem)\n",
    "                        if child.state not in explored and\n",
    "                        child not in frontier)\n",
    "        \n",
    "        for n in frontier:\n",
    "            # modify the color of frontier nodes to orange\n",
    "            node_colors[n.state] = \"orange\"\n",
    "            iterations += 1\n",
    "            all_node_colors.append(dict(node_colors))\n",
    "\n",
    "        # modify the color of explored nodes to gray\n",
    "        node_colors[node.state] = \"gray\"\n",
    "        iterations += 1\n",
    "        all_node_colors.append(dict(node_colors))\n",
    "        \n",
    "    return None\n",
    "\n",
    "\n",
    "def depth_first_graph_search(problem):\n",
    "    \"\"\"Search the deepest nodes in the search tree first.\"\"\"\n",
    "    iterations, all_node_colors, node = graph_search_for_vis(problem)\n",
    "    print('Total Iteration count is==>',iterations)\n",
    "    #return(iterations, all_node_colors, node)"
   ]
  },
  {
   "cell_type": "raw",
   "metadata": {},
   "source": [
    "all_node_colors = []\n",
    "taxi_route_finding_problem = GraphProblem(start_location,end_location, taxi_route_finding_map)\n",
    "display_visual(taxi_route_finding_graph_data, user_input=False, \n",
    "               algorithm=depth_first_graph_search, \n",
    "               problem=taxi_route_finding_problem)"
   ]
  },
  {
   "cell_type": "raw",
   "metadata": {},
   "source": [
    "## 3. ITERATIVE DEEPENING SEARCH\n",
    "\n"
   ]
  },
  {
   "cell_type": "raw",
   "metadata": {},
   "source": [
    "def depth_limited_search_graph(problem, limit = -1):\n",
    "    '''\n",
    "    Perform depth first search of graph g.\n",
    "    if limit >= 0, that is the maximum depth of the search.\n",
    "    '''\n",
    "    # we use these two variables at the time of visualisations\n",
    "    iterations = 0\n",
    "    all_node_colors = []\n",
    "    node_colors = {k : 'white' for k in problem.graph.nodes()}\n",
    "    \n",
    "    frontier = [Node(problem.initial)]\n",
    "    explored = set()\n",
    "    \n",
    "    cutoff_occurred = False\n",
    "    node_colors[Node(problem.initial).state] = \"orange\"\n",
    "    iterations += 1\n",
    "    all_node_colors.append(dict(node_colors))\n",
    "      \n",
    "    while frontier:\n",
    "        # Popping first node of queue\n",
    "        node = frontier.pop()\n",
    "        \n",
    "        # modify the currently searching node to red\n",
    "        node_colors[node.state] = \"red\"\n",
    "        iterations += 1\n",
    "        all_node_colors.append(dict(node_colors))\n",
    "        \n",
    "        if problem.goal_test(node.state):\n",
    "            # modify goal node to green after reaching the goal\n",
    "            node_colors[node.state] = \"green\"\n",
    "            iterations += 1\n",
    "            all_node_colors.append(dict(node_colors))\n",
    "            return(iterations, all_node_colors, node)\n",
    "\n",
    "        elif limit >= 0:\n",
    "            cutoff_occurred = True\n",
    "            limit += 1\n",
    "            all_node_color.pop()\n",
    "            iterations -= 1\n",
    "            node_colors[node.state] = \"gray\"\n",
    "\n",
    "        \n",
    "        explored.add(node.state)\n",
    "        frontier.extend(child for child in node.expand(problem)\n",
    "                        if child.state not in explored and\n",
    "                        child not in frontier)\n",
    "        \n",
    "        for n in frontier:\n",
    "            limit -= 1\n",
    "            # modify the color of frontier nodes to orange\n",
    "            node_colors[n.state] = \"orange\"\n",
    "            iterations += 1\n",
    "            all_node_colors.append(dict(node_colors))\n",
    "\n",
    "        # modify the color of explored nodes to gray\n",
    "        node_colors[node.state] = \"gray\"\n",
    "        iterations += 1\n",
    "        all_node_colors.append(dict(node_colors))\n",
    "        \n",
    "    return 'cutoff' if cutoff_occurred else None\n",
    "\n",
    "\n",
    "def depth_limited_search_for_vis(problem):\n",
    "    \"\"\"Search the deepest nodes in the search tree first.\"\"\"\n",
    "    iterations, all_node_colors, node = depth_limited_search_graph(problem)\n",
    "    return(iterations, all_node_colors, node)     "
   ]
  },
  {
   "cell_type": "raw",
   "metadata": {},
   "source": [
    "def iterative_deepening_search_for_vis(problem):\n",
    "    for depth in range(sys.maxsize):\n",
    "        iterations, all_node_colors, node=depth_limited_search_for_vis(problem)\n",
    "        if iterations:\n",
    "            return (iterations, all_node_colors, node)"
   ]
  },
  {
   "cell_type": "raw",
   "metadata": {},
   "source": [
    "all_node_colors = []\n",
    "taxi_route_finding_problem = GraphProblem(start_location, end_location, taxi_route_finding_map)\n",
    "a,b,c=iterative_deepening_search_for_vis(taxi_route_finding_problem)\n",
    "print('Iterations required with IDS-G==>',a)\n",
    "\n",
    "#display_visual(romania_graph_data, user_input=False, \n",
    "#               algorithm=iterative_deepening_search_for_vis, \n",
    "#               problem=romania_problem)"
   ]
  },
  {
   "cell_type": "raw",
   "metadata": {},
   "source": [
    "## Enough of techinical discussions now , lets see what we have found from our emperical results.\n",
    "* Below is the table which shows the time and space complexity of all 3 algorithms."
   ]
  },
  {
   "cell_type": "raw",
   "metadata": {},
   "source": [
    "\n",
    "<img src=\"https://www.dropbox.com/s/y0jbzkbfzgnd0su/Time_space_complexity_comp.PNG?raw=1\" alt=\"data1\" border=\"0\">"
   ]
  },
  {
   "cell_type": "raw",
   "metadata": {},
   "source": [
    "<h1 style=\"color: #5e9ca0;\">Very Important</h1>"
   ]
  },
  {
   "cell_type": "raw",
   "metadata": {},
   "source": [
    "\n",
    "## Expected end results from the experiment based on theoritical computation of time and space complexity above.\n",
    "\n",
    "* BFS may deliver optimum solution however may consume aot of memory for larger enviroments.\n",
    "* DFS may deliver better solution at time when the goal is around the contours but not always.It may sometimes go \n",
    "  into infinite loop for large enviroment while searching for the dead end.DFS will mostly take longer iterations.\n",
    "* Iterative deeping is the one which combines the goodness of both the above mentioned algorithms.Hence may deliver\n",
    "  optimum solution while consuming lesser memory to store nodes.\n"
   ]
  },
  {
   "cell_type": "raw",
   "metadata": {},
   "source": [
    "<h1 style=\"color: #5e9ca0;\">Time to verify the results</h1>"
   ]
  },
  {
   "cell_type": "raw",
   "metadata": {},
   "source": [
    "* **From the below results it seems pretty clear that BFS is far better in finding optimum solution in lesser iteration \n",
    "     than both DFS and IDFS but **is it enough to conclude ???** "
   ]
  },
  {
   "cell_type": "raw",
   "metadata": {},
   "source": [
    "## Below are the time complexity results"
   ]
  },
  {
   "cell_type": "raw",
   "metadata": {},
   "source": [
    "\n",
    "\n",
    "<img src=\"https://www.dropbox.com/s/bweimsej774mh9l/results_1.PNG?raw=1\" alt=\"data1\" border=\"0\">\n",
    "<img src=\"https://www.dropbox.com/s/4ozd1tkldl2ez71/results_2.PNG?raw=1\" alt=\"data1\" border=\"0\">\n"
   ]
  },
  {
   "cell_type": "raw",
   "metadata": {},
   "source": [
    "## EVALUATING THE SPACE COMPLEXITY\n",
    "* Prima facie based on above result is easy to clonclude that BFS is better but before that let us examine \n",
    "the **SPACE COMPLEXITY**\n",
    "* Below screenshots were taken of the CPU and the memory usage  when the matrix size was 100*100"
   ]
  },
  {
   "cell_type": "raw",
   "metadata": {},
   "source": [
    "\n",
    "<img src=\"https://www.dropbox.com/s/c1py181kwhxzciw/space_results.PNG?raw=1\" alt=\"data1\" border=\"0\">"
   ]
  },
  {
   "cell_type": "raw",
   "metadata": {},
   "source": [
    "<h1 style=\"color: #5e9ca0;\">FINAL CONCLUSIONS</h1>"
   ]
  },
  {
   "cell_type": "raw",
   "metadata": {},
   "source": [
    "1. When considered to provide optimum path in lesser iterations BFS is clearly a good choice however as the size increases BFSs  memory utilization exponentially increases with size of the environment(over 10GB with matrix size of 100*100).This makes BFS not a good chice for better space search problems.\n",
    "\n",
    "2. DFS consumes lesser memory however may go into infinite loop for bigger matrix size (takes 39000+ iterations in a            100*100 matrix.May never come back if the goal node is at one of the shallowest location.)\n",
    "\n",
    "3. IDFS combines the goodness of both i.e lesser memory, faster solution.IDFS is thus  COMPLETE , OPTIMUM"
   ]
  },
  {
   "cell_type": "raw",
   "metadata": {},
   "source": [
    "<h1 style=\"color: #5e9ca0;\">I would choose IDFS a the search algorithm in my taxi world problem </h1>"
   ]
  },
  {
   "cell_type": "raw",
   "metadata": {},
   "source": [
    "## Below is a screen shot of the memory usage during a DFS using a 100*100 marix"
   ]
  },
  {
   "cell_type": "raw",
   "metadata": {},
   "source": [
    "<img src=\"https://www.dropbox.com/s/ac8glgxk1sgy5h7/CPU_util_BFS_100_100.png?raw=1\" alt=\"data1\" border=\"0\">"
   ]
  }
 ],
 "metadata": {
  "kernelspec": {
   "display_name": "Python 3",
   "language": "python",
   "name": "python3"
  },
  "language_info": {
   "codemirror_mode": {
    "name": "ipython",
    "version": 3
   },
   "file_extension": ".py",
   "mimetype": "text/x-python",
   "name": "python",
   "nbconvert_exporter": "python",
   "pygments_lexer": "ipython3",
   "version": "3.7.3"
  },
  "widgets": {
   "state": {
    "1516e2501ddd4a2e8e3250bffc0164db": {
     "views": [
      {
       "cell_index": 59
      }
     ]
    },
    "17be64c89a9a4a43b3272cb018df0970": {
     "views": [
      {
       "cell_index": 59
      }
     ]
    },
    "ac05040009a340b0af81b0ee69161fbc": {
     "views": [
      {
       "cell_index": 59
      }
     ]
    },
    "d9735ffe77c24f13ae4ad3620ce84334": {
     "views": [
      {
       "cell_index": 59
      }
     ]
    }
   },
   "version": "1.2.0"
  }
 },
 "nbformat": 4,
 "nbformat_minor": 1
}
